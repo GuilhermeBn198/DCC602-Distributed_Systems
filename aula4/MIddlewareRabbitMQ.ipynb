{
  "cells": [
    {
      "cell_type": "markdown",
      "metadata": {
        "id": "Hmzm9vW2TqIy"
      },
      "source": [
        "**Implementando um Middleware com RabbitMQ**\n",
        "\n",
        "Um exemplo clássico de implementação de middleware em Python usando RabbitMQ é a implementação de uma fila de mensagens para processamento em background. Neste exemplo, uma aplicação Python envia mensagens contendo tarefas a serem realizadas para uma fila no RabbitMQ, enquanto outra aplicação Python consome essas mensagens e realiza as tarefas de forma assíncrona em segundo plano."
      ]
    },
    {
      "cell_type": "markdown",
      "metadata": {
        "id": "Azn8OCoWUJCy"
      },
      "source": [
        "Segue um exemplo básico de implementação:"
      ]
    },
    {
      "cell_type": "code",
      "execution_count": null,
      "metadata": {
        "id": "1NTTtZ_aUKjj"
      },
      "outputs": [],
      "source": [
        "!apt-get install rabbitmq-server\n",
        "!pip install pika\n",
        "\n",
        "import pika\n",
        "\n",
        "# Cria uma conexão com o servidor RabbitMQ\n",
        "connection = pika.BlockingConnection(pika.ConnectionParameters('localhost'))\n",
        "# Cria um canal de comunicação com o servidor RabbitMQ\n",
        "channel = connection.channel()\n",
        "# Declara a fila de mensagens no RabbitMQ\n",
        "channel.queue_declare(queue='minha_fila')\n",
        "# Envia uma mensagem contendo uma tarefa a ser realizada para a fila\n",
        "channel.basic_publish(exchange='', routing_key='minha_fila', body='Minha tarefa')\n",
        "\n",
        "# Função que será chamada para processar cada mensagem recebida\n",
        "def callback(ch, method, properties, body):\n",
        "    print(\"Tarefa recebida: %r\" % body)\n",
        "    # Realiza o processamento da tarefa aqui\n",
        "\n",
        "# Registra o consumidor para a fila\n",
        "channel.basic_consume(queue='minha_fila', on_message_callback=callback, auto_ack=True)\n",
        "\n",
        "# Inicia o loop de espera por mensagens\n",
        "print('Aguardando tarefas...')\n",
        "channel.start_consuming()\n",
        "\n"
      ]
    },
    {
      "cell_type": "markdown",
      "metadata": {
        "id": "TjDX8METdX5u"
      },
      "source": [
        "# **Atividade: Simulação de uma aplicação de IoT para detecção de incêndio**\n",
        "\n",
        "**Objetivo**\n",
        "\n",
        "Desenvolver uma aplicação simples de IoT para simular a detecção de incêndio em um ambiente, utilizando a temperatura da CPU como referência.\n",
        "\n",
        "**Materiais necessários**\n",
        "\n",
        "* Computador com sistema operacional Windows, Linux ou macOS\n",
        "\n",
        "* Linguagem de programação Python (versão 3.x)\n",
        "\n",
        "* Biblioteca de cliente RabbitMQ para Python (pika)\n",
        "\n",
        "* Raspberry Pi (opcional)\n",
        "\n",
        "**Descrição da atividade**\n",
        "\n",
        "1. Implemente um produtor que publique a temperatura da CPU em um tópico do RabbitMQ.\n",
        "2. Implemente um consumidor que receba a temperatura da CPU do RabbitMQ e verifique se ela está acima de um determinado limite (por exemplo, 70 graus Celsius).\n",
        "Caso a temperatura esteja acima do limite, o consumidor deve publicar uma mensagem em um novo tópico indicando que foi detectado um incêndio.\n",
        "3. Implemente um novo consumidor que receba a mensagem do tópico de detecção de incêndio e dispare um alarme sonoro ou luminoso.\n",
        "4. Modifique a aplicação para que, além de disparar o alarme, ela também envie uma mensagem para um outro tópico indicando que o sistema de prevenção de incêndio deve ser ativado.\n",
        "5. Caso seja possível, conecte um Raspberry Pi com um LED ou buzzer e faça com que ele seja acionado pelo segundo consumidor, simulando o disparo do alarme.\n",
        "\n",
        "**Observações**\n",
        "* É possível utilizar o módulo **psutil** do Python para obter a temperatura da CPU.\n",
        "* Para facilitar a implementação, é recomendado utilizar a interface em modo texto para console, em vez de uma interface gráfica."
      ]
    }
  ],
  "metadata": {
    "colab": {
      "provenance": []
    },
    "kernelspec": {
      "display_name": "Python 3",
      "name": "python3"
    },
    "language_info": {
      "name": "python"
    }
  },
  "nbformat": 4,
  "nbformat_minor": 0
}
