{
  "cells": [
    {
      "cell_type": "markdown",
      "metadata": {
        "id": "k6FXGFuWAqlR"
      },
      "source": [
        "**Exemplo de Comunicação Cliente Servidor em Python**\n",
        "\n",
        "Primeiro, precisamos definir o que é um servidor e o que é um cliente em uma comunicação. O servidor é o programa que recebe as requisições do cliente e responde a elas, enquanto o cliente é o programa que envia as requisições para o servidor e recebe as respostas.\n",
        "\n",
        "Para a nossa comunicação, vamos utilizar a biblioteca padrão do Python, **socket**, que nos permite criar conexões entre processos em uma rede. Vamos criar dois arquivos, **server.py** e **client.py**, para implementar o servidor e o cliente, respectivamente.\n"
      ]
    },
    {
      "cell_type": "markdown",
      "metadata": {
        "id": "5dcB8a_aBEQB"
      },
      "source": [
        "**Implementando o servidor**\n",
        "\n",
        "Primeiro, vamos implementar o servidor. Abra o arquivo server.py e adicione o seguinte código:"
      ]
    },
    {
      "cell_type": "code",
      "execution_count": null,
      "metadata": {
        "id": "Qjq3YMBmBNkQ"
      },
      "outputs": [],
      "source": [
        "import socket\n",
        "\n",
        "HOST = ''  # Endereço IP do servidor\n",
        "PORT = 5000  # Porta que o servidor vai escutar\n",
        "\n",
        "# Cria um objeto socket\n",
        "s = socket.socket(socket.AF_INET, socket.SOCK_STREAM)\n",
        "\n",
        "# Associa o objeto socket ao endereço e porta especificados\n",
        "s.bind((HOST, PORT))\n",
        "\n",
        "# Define o limite máximo de conexões simultâneas\n",
        "s.listen(1)\n",
        "\n",
        "print(f'Servidor escutando na porta {PORT}...')\n",
        "\n",
        "# Aguarda uma conexão\n",
        "conn, addr = s.accept()\n",
        "print(f'Conectado por {addr}')\n",
        "\n",
        "# Aguarda uma mensagem do cliente\n",
        "data = conn.recv(1024)\n",
        "print(f'Mensagem recebida: {data.decode()}')\n",
        "\n",
        "# Envia uma resposta para o cliente\n",
        "conn.sendall('Mensagem recebida com sucesso!'.encode())\n",
        "\n",
        "# Fecha a conexão\n",
        "conn.close()\n"
      ]
    },
    {
      "cell_type": "markdown",
      "metadata": {
        "id": "cEZ3a_nFBg53"
      },
      "source": [
        "Este código cria um objeto **socket** e o associa a um endereço IP e porta específicos. Em seguida, define um limite máximo de conexões simultâneas que o servidor vai aceitar e imprime uma mensagem indicando que o servidor está escutando na porta especificada.\n",
        "\n",
        "Quando uma conexão é estabelecida com o servidor, o método **accept()** é chamado, o que aguarda uma conexão de um cliente. Quando a conexão é estabelecida, o método retorna um objeto de conexão **conn** e um objeto de endereço **addr**.\n",
        "\n",
        "Em seguida, o servidor aguarda uma mensagem do cliente usando o método **recv()**. Quando uma mensagem é recebida, o servidor imprime a mensagem e envia uma resposta de confirmação de recebimento de volta ao cliente usando o método **sendall()**. Por fim, o servidor fecha a conexão."
      ]
    },
    {
      "cell_type": "markdown",
      "metadata": {
        "id": "eVE9jEp-B6EY"
      },
      "source": [
        "**Implementando o cliente**\n",
        "\n",
        "Agora, vamos implementar o cliente. Abra o arquivo **client.py** e adicione o seguinte código:"
      ]
    },
    {
      "cell_type": "code",
      "execution_count": null,
      "metadata": {
        "id": "Kgf8XK-bCBe6"
      },
      "outputs": [],
      "source": [
        "import socket\n",
        "\n",
        "HOST = 'localhost'  # Endereço IP do servidor\n",
        "PORT = 5000  # Porta do servidor\n",
        "\n",
        "# Cria um objeto socket\n",
        "s = socket.socket(socket.AF_INET, socket.SOCK_STREAM)\n",
        "\n",
        "# Conecta ao servidor\n",
        "s.connect((HOST, PORT))\n",
        "\n",
        "# Envia uma mensagem para o servidor\n",
        "s.sendall('Olá, servidor!'.encode())\n",
        "\n",
        "# Aguarda uma resposta do servidor\n",
        "data = s.recv(1024)\n",
        "\n",
        "# Imprime a resposta recebida\n",
        "print(f'Resposta do servidor: {data.decode()}')\n",
        "\n",
        "# Fecha a conexão\n",
        "s.close()\n"
      ]
    },
    {
      "cell_type": "markdown",
      "metadata": {
        "id": "GBQag6B-DY0A"
      },
      "source": [
        "**Depurando as Trocas de Mensagens com tcpdump no Linux**\n",
        "\n",
        "Para depurar as trocas de mensagens dos programas **client.py** e **server.py** na camada de transporte, podemos utilizar o comando **tcpdump** no terminal do **Linux**. O **tcpdump** é uma ferramenta de linha de comando que captura e exibe pacotes que passam pela interface de rede.\n",
        "\n",
        "Para utilizar o **tcpdump**, primeiro devemos iniciar o servidor e depois o cliente em outro terminal. Em seguida, podemos executar o seguinte comando no terminal para capturar os pacotes que passam pela interface de rede:"
      ]
    },
    {
      "cell_type": "code",
      "execution_count": null,
      "metadata": {
        "id": "YYQaBhe9Dty0"
      },
      "outputs": [],
      "source": [
        "sudo tcpdump -i any 'port 5000'"
      ]
    },
    {
      "cell_type": "markdown",
      "metadata": {
        "id": "e0b1fMJdDyd3"
      },
      "source": [
        "Este comando captura todos os pacotes que passam pela interface de rede e filtra os pacotes que utilizam a porta **5000**, que é a porta que estamos utilizando na nossa comunicação cliente-servidor.\n",
        "\n",
        "A seguir, podemos enviar uma mensagem do cliente para o servidor. Quando a mensagem é enviada, o **tcpdump** exibe o conteúdo dos pacotes na camada de transporte. Por exemplo, se o cliente envia a mensagem \"**Olá, servidor!**\", o **tcpdump** pode exibir algo como:"
      ]
    },
    {
      "cell_type": "code",
      "execution_count": null,
      "metadata": {
        "id": "xI0HaqOCEDCh"
      },
      "outputs": [],
      "source": [
        "23:54:23.480078 IP localhost.44406 > localhost.5000: Flags [S], seq 2566975364, win 65495, options [mss 65495,sackOK,TS val 2213019683 ecr 0,nop,wscale 7], length 0\n",
        "23:54:23.480142 IP localhost.5000 > localhost.44406: Flags [S.], seq 1525433399, ack 2566975365, win 65483, options [mss 65495,sackOK,TS val 2213019683 ecr 2213019683,nop,wscale 7], length 0\n",
        "23:54:23.480187 IP localhost.44406 > localhost.5000: Flags [.], ack 1, win 512, options [nop,nop,TS val 2213019683 ecr 2213019683], length 0\n",
        "23:54:23.480227 IP localhost.44406 > localhost.5000: Flags [P.], seq 1:15, ack 1, win 512, options [nop,nop,TS val 2213019683 ecr 2213019683], length 14\n",
        "23:54:23.480240 IP localhost.5000 > localhost.44406: Flags [.], ack 15, win 512, options [nop,nop,TS val 2213019683 ecr 2213019683], length 0\n"
      ]
    },
    {
      "cell_type": "markdown",
      "metadata": {
        "id": "wG8Kc436EUD4"
      },
      "source": [
        "Neste exemplo, podemos ver que o cliente envia um pacote de requisição com a mensagem \"**Olá, servidor!**\" e o servidor responde com um pacote de confirmação. O **tcpdump** exibe o conteúdo dos pacotes na camada de transporte, incluindo as informações do cabeçalho TCP, como as flags (https://gist.github.com/tuxfight3r/9ac030cb0d707bb446c7), sequência e confirmação de números, janela de recepção, opções e comprimento.\n",
        "\n",
        "O **tcpdump** pode ser uma ferramenta muito útil para depurar problemas de comunicação em redes e para entender melhor como as trocas de mensagens ocorrem na camada de transporte."
      ]
    }
  ],
  "metadata": {
    "colab": {
      "provenance": []
    },
    "kernelspec": {
      "display_name": "Python 3",
      "name": "python3"
    },
    "language_info": {
      "name": "python"
    }
  },
  "nbformat": 4,
  "nbformat_minor": 0
}
