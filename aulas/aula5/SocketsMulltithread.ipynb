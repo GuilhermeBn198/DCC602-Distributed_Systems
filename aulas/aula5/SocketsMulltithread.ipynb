{
  "nbformat": 4,
  "nbformat_minor": 0,
  "metadata": {
    "colab": {
      "provenance": []
    },
    "kernelspec": {
      "name": "python3",
      "display_name": "Python 3"
    },
    "language_info": {
      "name": "python"
    }
  },
  "cells": [
    {
      "cell_type": "markdown",
      "source": [
        "**Servidor**"
      ],
      "metadata": {
        "id": "HTuSPJab3pkb"
      }
    },
    {
      "cell_type": "code",
      "execution_count": null,
      "metadata": {
        "id": "EjWvx69N3oqB"
      },
      "outputs": [],
      "source": [
        "import socket\n",
        "import threading\n",
        "\n",
        "def handle_client(conn, addr):\n",
        "    print(f\"[NEW CONNECTION] {addr} connected.\")\n",
        "\n",
        "    connected = True\n",
        "    while connected:\n",
        "        msg = conn.recv(1024)\n",
        "        if msg == b\"quit\":\n",
        "            connected = False\n",
        "        else:\n",
        "            print(f\"[{addr}] {msg.decode()}\")\n",
        "\n",
        "    conn.close()\n",
        "    print(f\"[DISCONNECTED] {addr} disconnected.\")\n",
        "\n",
        "def start_server():\n",
        "    host = \"localhost\"\n",
        "    port = 12345\n",
        "\n",
        "    server = socket.socket(socket.AF_INET, socket.SOCK_STREAM)\n",
        "    server.bind((host, port))\n",
        "\n",
        "    server.listen()\n",
        "    print(f\"[LISTENING] Server is listening on {host}:{port}.\")\n",
        "\n",
        "    while True:\n",
        "        conn, addr = server.accept()\n",
        "        thread = threading.Thread(target=handle_client, args=(conn, addr))\n",
        "        thread.start()\n",
        "        print(f\"[ACTIVE CONNECTIONS] {threading.activeCount() - 1}\")\n",
        "\n",
        "start_server()"
      ]
    },
    {
      "cell_type": "markdown",
      "source": [
        "**Cliente**"
      ],
      "metadata": {
        "id": "0vdDNrYD4aya"
      }
    },
    {
      "cell_type": "code",
      "source": [
        "import socket\n",
        "\n",
        "def start_client():\n",
        "    host = \"localhost\"\n",
        "    port = 12345\n",
        "\n",
        "    client = socket.socket(socket.AF_INET, socket.SOCK_STREAM)\n",
        "    client.connect((host, port))\n",
        "\n",
        "    connected = True\n",
        "    while connected:\n",
        "        msg = input()\n",
        "        client.sendall(msg.encode())\n",
        "        if msg == \"quit\":\n",
        "            connected = False\n",
        "\n",
        "    client.close()\n",
        "\n",
        "start_client()"
      ],
      "metadata": {
        "id": "5NOvetyu4rdh"
      },
      "execution_count": null,
      "outputs": []
    },
    {
      "cell_type": "markdown",
      "source": [
        "No código do servidor agora usamos threads para lidar com várias conexões simultâneas. A função handle_client agora é executada em uma nova thread para cada nova conexão aceita pelo servidor. A função start_server é executada em uma thread separada para garantir que o servidor esteja sempre ouvindo novas conexões.\n",
        "\n",
        "O código do cliente é muito simples. Ele se conecta ao servidor usando o mesmo host e porta definidos no script do servidor. Ele então lê a entrada do usuário e envia essa entrada para o servidor. Se o usuário digitar \"quit\", a conexão é encerrada.\n",
        "\n",
        "Ao executar o servidor e o cliente, é possível enviar várias mensagens de diferentes instâncias do cliente ao servidor ao mesmo tempo. Cada conexão é tratada em uma thread separada."
      ],
      "metadata": {
        "id": "yMSGqjcm4ska"
      }
    }
  ]
}