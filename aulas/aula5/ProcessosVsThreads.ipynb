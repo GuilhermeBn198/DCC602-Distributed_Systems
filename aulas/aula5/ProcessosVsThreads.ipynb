{
  "cells": [
    {
      "cell_type": "markdown",
      "metadata": {
        "id": "67wsfY-mBYZm"
      },
      "source": [
        "**Um exemplo simples em Python de Processos vs Threads**\n",
        "\n",
        "Para tornar as coisas mais concretas, vamos dar uma olhada em um exemplo simples em Python, também para ilustrar as diferenças entre processos e threads. "
      ]
    },
    {
      "cell_type": "markdown",
      "metadata": {
        "id": "fcqDTwB3H-5u"
      },
      "source": [
        "**Exemplo com processos**\n",
        "\n",
        "O código abaixo mostra um exemplo de como criar e iniciar dois processos em Python usando a biblioteca multiprocessing. Cada processo executa a função sleeping, que simplesmente espera por um número aleatório de segundos antes de imprimir uma mensagem indicando que terminou de dormir."
      ]
    },
    {
      "cell_type": "code",
      "execution_count": null,
      "metadata": {
        "colab": {
          "base_uri": "https://localhost:8080/"
        },
        "id": "BXsbGN7NB8e4",
        "outputId": "d05d9c41-20eb-46c2-92d9-b91c1d555e42"
      },
      "outputs": [
        {
          "name": "stdout",
          "output_type": "stream",
          "text": [
            "Process 1 has woken up after 4 secondsProcess 2 has woken up after 4 seconds\n",
            "\n"
          ]
        }
      ],
      "source": [
        "from multiprocessing import Process\n",
        "from time import sleep\n",
        "from random import randint\n",
        "\n",
        "def sleeping(name):\n",
        "    s = randint(1, 5)\n",
        "    sleep(s)\n",
        "    print('{name} has woken up after {s} seconds')\n",
        "\n",
        "if __name__ == '__main__':\n",
        "    p1 = Process(target=sleeping, args=('Process 1',))\n",
        "    p2 = Process(target=sleeping, args=('Process 2',))\n",
        "    p1.start()\n",
        "    p2.start()\n",
        "    p1.join()\n",
        "    p2.join()"
      ]
    },
    {
      "cell_type": "markdown",
      "metadata": {
        "id": "NRz6_kKlDy0X"
      },
      "source": [
        "Neste exemplo, Process é uma classe da biblioteca multiprocessing que é usada para criar um novo processo. O método target é usado para especificar a função que o processo deve executar, e o argumento args é usado para passar argumentos para a função. O método start inicia o processo e o método join aguarda até que o processo termine antes de continuar a execução do programa.\n",
        "\n",
        "Note que é necessário colocar o código em um bloco if __name__ == '__main__': para evitar que o código seja executado várias vezes ao usar o import."
      ]
    },
    {
      "cell_type": "markdown",
      "metadata": {
        "id": "F4OLwOSBIY83"
      },
      "source": [
        "**Exemplo com threads**\n",
        "\n",
        "O código abaixo mostra um exemplo de como criar e iniciar três threads em Python usando a biblioteca threading. Cada thread executa a função sleeping, que espera por um número aleatório de segundos antes de imprimir uma mensagem indicando que terminou de dormir."
      ]
    },
    {
      "cell_type": "code",
      "execution_count": 7,
      "metadata": {
        "colab": {
          "base_uri": "https://localhost:8080/"
        },
        "id": "PzHPHyP-BVJP",
        "outputId": "7afb682a-ba5d-4acc-90d3-4536082a4106"
      },
      "outputs": [
        {
          "name": "stdout",
          "output_type": "stream",
          "text": [
            "Thread 1 has woken up after 1 seconds, and 11\n",
            "Thread 2 has woken up after 3 seconds, and 11\n",
            "Thread 3 has woken up after 5 seconds, and 11\n"
          ]
        }
      ],
      "source": [
        "from threading import Thread\n",
        "from time import sleep\n",
        "from random import randint\n",
        "\n",
        "def sleeping(name):\n",
        "    s = randint(1, 10)\n",
        "    shared_y = 10\n",
        "    sleep(s)\n",
        "    shared_y += 1\n",
        "    print(f'{name} has woken up after {s} seconds, and {shared_y}')\n",
        "\n",
        "if __name__ == '__main__':\n",
        "    t1 = Thread(target=sleeping, args=('Thread 1',))\n",
        "    t2 = Thread(target=sleeping, args=('Thread 2',))\n",
        "    t3 = Thread(target=sleeping, args=('Thread 3',))\n",
        "    t1.start()\n",
        "    t2.start()\n",
        "    t3.start()\n",
        "    t1.join()\n",
        "    t2.join()\n",
        "    t3.join()"
      ]
    },
    {
      "cell_type": "markdown",
      "metadata": {
        "id": "BPlmtVCRItmv"
      },
      "source": [
        "Neste exemplo, Thread é uma classe da biblioteca threading que é usada para criar uma nova thread. O método target é usado para especificar a função que a thread deve executar, e o argumento args é usado para passar argumentos para a função. O método start inicia a thread e o método join aguarda até que a thread termine antes de continuar a execução do programa.\n",
        "\n",
        "Note que também é necessário colocar o código em um bloco if __name__ == '__main__': para evitar que o código seja executado várias vezes ao usar o import.\n",
        "\n",
        "\n",
        "**Explicação**\n",
        "\n",
        "A diferença fundamental entre processos e threads é que processos são executados em espaços de endereçamento diferentes, enquanto as threads compartilham o mesmo espaço de endereçamento. Isso significa que cada processo tem sua própria cópia das variáveis, enquanto as threads compartilham as mesmas variáveis."
      ]
    },
    {
      "cell_type": "markdown",
      "metadata": {
        "id": "OhXNdnGzJU82"
      },
      "source": [
        "**Exercício**\n",
        "\n",
        "Um exercício interessante para fazer é modificar o código do exemplo para incluir uma nova variável compartilhada entre as threads e observar como as threads acessam e atualizam essa variável de forma concorrente. Os alunos podem adicionar uma nova variável shared_y no código da função sleeping,\n",
        "\n",
        "Os alunos podem então executar o código com diferentes valores iniciais para shared_x e observar como as threads concorrentes atualizam essa variável ao mesmo tempo em que atualizam shared_y. Isso permitirá que os alunos entendam melhor o conceito de concorrência e como isso pode levar a erros em programas mal projetados."
      ]
    }
  ],
  "metadata": {
    "colab": {
      "provenance": []
    },
    "kernelspec": {
      "display_name": "Python 3",
      "name": "python3"
    },
    "language_info": {
      "codemirror_mode": {
        "name": "ipython",
        "version": 3
      },
      "file_extension": ".py",
      "mimetype": "text/x-python",
      "name": "python",
      "nbconvert_exporter": "python",
      "pygments_lexer": "ipython3",
      "version": "3.11.3"
    }
  },
  "nbformat": 4,
  "nbformat_minor": 0
}
