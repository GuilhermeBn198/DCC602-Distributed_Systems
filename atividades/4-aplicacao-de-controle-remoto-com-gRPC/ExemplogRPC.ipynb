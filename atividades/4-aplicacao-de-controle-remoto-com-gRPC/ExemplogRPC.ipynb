{
  "nbformat": 4,
  "nbformat_minor": 0,
  "metadata": {
    "colab": {
      "provenance": []
    },
    "kernelspec": {
      "name": "python3",
      "display_name": "Python 3"
    },
    "language_info": {
      "name": "python"
    }
  },
  "cells": [
    {
      "cell_type": "markdown",
      "source": [
        "**Exemplo de Chamada de Procedimento Remoto com gRPC**\n",
        "\n",
        "Primeiro vamos instalar as dependências.\n"
      ],
      "metadata": {
        "id": "sG_ETnalI9fl"
      }
    },
    {
      "cell_type": "code",
      "source": [
        "!pip install grpcio grpcio-tools\n"
      ],
      "metadata": {
        "id": "YeJLw4qJJbMO"
      },
      "execution_count": null,
      "outputs": []
    },
    {
      "cell_type": "markdown",
      "source": [
        "Vamos criar nossa interface RPC definida em um arquivo proto chamado \"my_service.proto\". A seguir, uma possível definição dessa interface:"
      ],
      "metadata": {
        "id": "PN_3NvRCJjNb"
      }
    },
    {
      "cell_type": "code",
      "execution_count": null,
      "metadata": {
        "colab": {
          "base_uri": "https://localhost:8080/"
        },
        "id": "KGpfSA8FItYf",
        "outputId": "207e3df6-6935-4651-fa4e-7ea953680807"
      },
      "outputs": [
        {
          "output_type": "stream",
          "name": "stdout",
          "text": [
            "Overwriting my_service.proto\n"
          ]
        }
      ],
      "source": [
        "%%writefile my_service.proto\n",
        "syntax = \"proto3\";\n",
        "\n",
        "package my_service;\n",
        "\n",
        "service MyService {\n",
        "  rpc SayHello (HelloRequest) returns (HelloResponse) {}\n",
        "}\n",
        "\n",
        "message HelloRequest {\n",
        "  string name = 1;\n",
        "}\n",
        "\n",
        "message HelloResponse {\n",
        "  string message = 1;\n",
        "}\n"
      ]
    },
    {
      "cell_type": "markdown",
      "source": [
        "Em seguida, podemos usar o compilador gRPC para gerar o código Python correspondente à nossa interface RPC:"
      ],
      "metadata": {
        "id": "whILC5FGKkOl"
      }
    },
    {
      "cell_type": "code",
      "source": [
        "!python -m grpc_tools.protoc -I./ --python_out=. --grpc_python_out=. my_service.proto\n"
      ],
      "metadata": {
        "id": "zsvjlqV4Kmut"
      },
      "execution_count": null,
      "outputs": []
    },
    {
      "cell_type": "markdown",
      "source": [
        "Isso gerará os arquivos my_service_pb2.py e my_service_pb2_grpc.py, que contêm as classes de mensagem e stubs de cliente/servidor para nossa interface RPC."
      ],
      "metadata": {
        "id": "y0uRzk7dKuzt"
      }
    },
    {
      "cell_type": "code",
      "source": [
        "!ls\n",
        "!python my_service_pb2_grpc.py"
      ],
      "metadata": {
        "id": "cY-KPHZ-Kvsc"
      },
      "execution_count": null,
      "outputs": []
    },
    {
      "cell_type": "markdown",
      "source": [
        "Agora podemos criar nosso servidor gRPC em Python:"
      ],
      "metadata": {
        "id": "WwE7W6qLK3OM"
      }
    },
    {
      "cell_type": "code",
      "source": [
        "import grpc\n",
        "import my_service_pb2\n",
        "import my_service_pb2_grpc\n",
        "from  concurrent import futures\n",
        "\n",
        "class MyService(my_service_pb2_grpc.MyServiceServicer):\n",
        "    def SayHello(self, request, context):\n",
        "        return my_service_pb2.HelloResponse(message=f\"Hello, {request.name}!\")\n",
        "\n",
        "def serve():\n",
        "    server = grpc.server(futures.ThreadPoolExecutor(max_workers=10))\n",
        "    my_service_pb2_grpc.add_MyServiceServicer_to_server(MyService(), server)\n",
        "    server.add_insecure_port(\"[::]:50051\")\n",
        "    server.start()\n",
        "    server.wait_for_termination()\n",
        "\n",
        "if __name__ == \"__main__\":\n",
        "    serve()\n"
      ],
      "metadata": {
        "id": "QI-D-DzyK4YD"
      },
      "execution_count": null,
      "outputs": []
    },
    {
      "cell_type": "markdown",
      "source": [
        "Nesse exemplo, criamos uma classe MyService que implementa a interface RPC definida em my_service.proto. O método SayHello recebe uma requisição HelloRequest contendo um campo name e retorna uma resposta HelloResponse contendo uma mensagem de saudação.\n",
        "\n",
        "Em seguida, criamos um servidor gRPC usando o módulo grpc do Python. Usamos a classe grpc.server para criar um novo servidor, adicionamos nossa implementação da interface RPC ao servidor usando a função add_MyServiceServicer_to_server, definimos a porta do servidor para 50051 e iniciamos o servidor."
      ],
      "metadata": {
        "id": "ds8j84GjPNmF"
      }
    },
    {
      "cell_type": "markdown",
      "source": [
        "Por fim, podemos criar um cliente gRPC em Python para chamar nosso servidor:"
      ],
      "metadata": {
        "id": "tmrPzBFLPRVq"
      }
    },
    {
      "cell_type": "code",
      "source": [
        "import grpc\n",
        "import my_service_pb2\n",
        "import my_service_pb2_grpc\n",
        "\n",
        "def run():\n",
        "    with grpc.insecure_channel(\"localhost:50051\") as channel:\n",
        "        stub = my_service_pb2_grpc.MyServiceStub(channel)\n",
        "        response = stub.SayHello(my_service_pb2.HelloRequest(name=\"Alice\"))\n",
        "        print(response.message)\n",
        "\n",
        "if __name__ == \"__main__\":\n",
        "    run()\n"
      ],
      "metadata": {
        "id": "8VChHJxYPaJS"
      },
      "execution_count": null,
      "outputs": []
    },
    {
      "cell_type": "markdown",
      "source": [
        "---\n",
        "**Atividade: Criando uma aplicação de controle remoto com gRPC**\n",
        "\n",
        "**Objetivo**\n",
        "\n",
        "Modificar o exemplo de cliente e servidor gRPC visto anteriormente \n",
        "para criar uma aplicação de controle remoto de uma máquina Linux. O objetivo é permitir que o cliente envie comandos em formato de string para o servidor, que irá executar esses comandos em uma máquina Linux e retornar o resultado para o cliente.\n",
        "\n",
        "**Descrição**\n",
        "\n",
        "A aplicação deverá ser composta por um servidor e um cliente, implementados usando gRPC e Python. O servidor deve estar configurado para receber comandos em formato de string do cliente e executá-los em uma máquina Linux. O cliente deve permitir que o usuário insira os comandos que deseja executar e exibir o resultado da execução.\n",
        "\n",
        "**Requisitos**\n",
        "\n",
        "* O servidor deve ser capaz de receber comandos em formato de string do cliente e executá-los em uma máquina Linux;\n",
        "* O cliente deve permitir que o usuário insira os comandos que deseja executar no servidor e exibir o resultado da execução;\n",
        "* O código deve ser modularizado e organizado em pacotes e módulos;\n",
        "Deve ser possível executar o servidor e o cliente em máquinas diferentes;\n",
        "* O servidor e o cliente devem ser implementados usando gRPC e Python.\n",
        "\n",
        "**Dicas**\n",
        "\n",
        "* Utilize a biblioteca **subprocess** para executar comandos **bash** no servidor;\n",
        "* Utilize a biblioteca **grpc** para implementar a comunicação entre o cliente e o servidor conforme o exemplo anterior;\n",
        "* Utilize a biblioteca **click** para implementar a interface de linha de comando do cliente;\n",
        "* Organize o código em pacotes e módulos para facilitar a manutenção e reutilização.\n",
        "\n",
        "\n",
        "**Bônus**\n",
        "\n",
        "Implemente alguma funcionalidade adicional na aplicação, como por exemplo:\n",
        "\n",
        "* Autenticação e autorização de usuários;\n",
        "* Execução de comandos em múltiplas máquinas ao mesmo tempo;\n",
        "* Implementação de um sistema de logs para armazenar as informações de execução;\n",
        "* Utilização de criptografia para garantir a segurança na comunicação entre o cliente e o servidor.\n"
      ],
      "metadata": {
        "id": "1Xf67WqPQ9RQ"
      }
    }
  ]
}